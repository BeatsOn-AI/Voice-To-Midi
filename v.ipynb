{
 "cells": [
  {
   "cell_type": "code",
   "execution_count": 2,
   "metadata": {},
   "outputs": [
    {
     "name": "stderr",
     "output_type": "stream",
     "text": [
      "[src/libmpg123/parse.c:skip_junk():1276] error: Giving up searching valid MPEG header after 65536 bytes of junk.\n",
      "/var/folders/1y/cd26kgpx7jd535tgk4gkf_3r0000gn/T/ipykernel_41707/2447529956.py:6: UserWarning: PySoundFile failed. Trying audioread instead.\n",
      "  data, sr = librosa.load(filename, sr=None)\n",
      "/Library/Frameworks/Python.framework/Versions/3.11/lib/python3.11/site-packages/librosa/core/audio.py:183: FutureWarning: librosa.core.audio.__audioread_load\n",
      "\tDeprecated as of librosa version 0.10.0.\n",
      "\tIt will be removed in librosa version 1.0.\n",
      "  y, sr_native = __audioread_load(path, offset, duration, dtype)\n",
      "Vamp::HostExt: Unable to load library \"/Library/Audio/Plug-Ins/Vamp/mtg-melodia.dylib\": dlopen(/Library/Audio/Plug-Ins/Vamp/mtg-melodia.dylib, 0x0005): tried: '/Library/Audio/Plug-Ins/Vamp/mtg-melodia.dylib' (fat file, but missing compatible architecture (have 'i386,x86_64', need 'arm64')), '/System/Volumes/Preboot/Cryptexes/OS/Library/Audio/Plug-Ins/Vamp/mtg-melodia.dylib' (no such file), '/Library/Audio/Plug-Ins/Vamp/mtg-melodia.dylib' (fat file, but missing compatible architecture (have 'i386,x86_64', need 'arm64'))\n",
      "Vamp::HostExt::PluginLoader: No library found in Vamp path for plugin \"mtg-melodia:melodlia\"\n"
     ]
    },
    {
     "ename": "TypeError",
     "evalue": "Failed to load plugin: mtg-melodia:melodlia",
     "output_type": "error",
     "traceback": [
      "\u001b[0;31m---------------------------------------------------------------------------\u001b[0m",
      "\u001b[0;31mTypeError\u001b[0m                                 Traceback (most recent call last)",
      "Cell \u001b[0;32mIn[2], line 7\u001b[0m\n\u001b[1;32m      5\u001b[0m filename \u001b[38;5;241m=\u001b[39m \u001b[38;5;124m'\u001b[39m\u001b[38;5;124m/Users/adamzinebi/Documents/Beatson/audio2midi/adam_hummed/randoms/bien.mp3\u001b[39m\u001b[38;5;124m'\u001b[39m\n\u001b[1;32m      6\u001b[0m data, sr \u001b[38;5;241m=\u001b[39m librosa\u001b[38;5;241m.\u001b[39mload(filename, sr\u001b[38;5;241m=\u001b[39m\u001b[38;5;28;01mNone\u001b[39;00m)\n\u001b[0;32m----> 7\u001b[0m melody \u001b[38;5;241m=\u001b[39m \u001b[43mvamp\u001b[49m\u001b[38;5;241;43m.\u001b[39;49m\u001b[43mcollect\u001b[49m\u001b[43m(\u001b[49m\u001b[43mdata\u001b[49m\u001b[43m,\u001b[49m\u001b[43m \u001b[49m\u001b[43msr\u001b[49m\u001b[43m,\u001b[49m\u001b[43m \u001b[49m\u001b[38;5;124;43m\"\u001b[39;49m\u001b[38;5;124;43mmtg-melodia:melodlia\u001b[39;49m\u001b[38;5;124;43m\"\u001b[39;49m\u001b[43m)\u001b[49m\n\u001b[1;32m      9\u001b[0m \u001b[38;5;66;03m# Collect melody using mtg-melodia plugin\u001b[39;00m\n\u001b[1;32m     10\u001b[0m \u001b[38;5;28;01mtry\u001b[39;00m:\n",
      "File \u001b[0;32m/Library/Frameworks/Python.framework/Versions/3.11/lib/python3.11/site-packages/vamp/collect.py:166\u001b[0m, in \u001b[0;36mcollect\u001b[0;34m(data, sample_rate, plugin_key, output, parameters, **kwargs)\u001b[0m\n\u001b[1;32m    111\u001b[0m \u001b[38;5;28;01mdef\u001b[39;00m \u001b[38;5;21mcollect\u001b[39m(data, sample_rate, plugin_key, output \u001b[38;5;241m=\u001b[39m \u001b[38;5;124m\"\u001b[39m\u001b[38;5;124m\"\u001b[39m, parameters \u001b[38;5;241m=\u001b[39m {}, \u001b[38;5;241m*\u001b[39m\u001b[38;5;241m*\u001b[39mkwargs):\n\u001b[1;32m    112\u001b[0m \u001b[38;5;250m    \u001b[39m\u001b[38;5;124;03m\"\"\"Process audio data with a Vamp plugin, and make the results from a\u001b[39;00m\n\u001b[1;32m    113\u001b[0m \u001b[38;5;124;03m    single plugin output available as a single structure.\u001b[39;00m\n\u001b[1;32m    114\u001b[0m \n\u001b[0;32m   (...)\u001b[0m\n\u001b[1;32m    163\u001b[0m \u001b[38;5;124;03m    vamp.process() instead.\u001b[39;00m\n\u001b[1;32m    164\u001b[0m \u001b[38;5;124;03m    \"\"\"\u001b[39;00m\n\u001b[0;32m--> 166\u001b[0m     plugin, step_size, block_size \u001b[38;5;241m=\u001b[39m \u001b[43mvamp\u001b[49m\u001b[38;5;241;43m.\u001b[39;49m\u001b[43mload\u001b[49m\u001b[38;5;241;43m.\u001b[39;49m\u001b[43mload_and_configure\u001b[49m\u001b[43m(\u001b[49m\u001b[43mdata\u001b[49m\u001b[43m,\u001b[49m\u001b[43m \u001b[49m\u001b[43msample_rate\u001b[49m\u001b[43m,\u001b[49m\u001b[43m \u001b[49m\u001b[43mplugin_key\u001b[49m\u001b[43m,\u001b[49m\u001b[43m \u001b[49m\u001b[43mparameters\u001b[49m\u001b[43m,\u001b[49m\u001b[43m \u001b[49m\u001b[38;5;241;43m*\u001b[39;49m\u001b[38;5;241;43m*\u001b[39;49m\u001b[43mkwargs\u001b[49m\u001b[43m)\u001b[49m\n\u001b[1;32m    168\u001b[0m     \u001b[38;5;28;01mif\u001b[39;00m output \u001b[38;5;241m==\u001b[39m \u001b[38;5;124m\"\u001b[39m\u001b[38;5;124m\"\u001b[39m:\n\u001b[1;32m    169\u001b[0m         output_desc \u001b[38;5;241m=\u001b[39m plugin\u001b[38;5;241m.\u001b[39mget_output(\u001b[38;5;241m0\u001b[39m)\n",
      "File \u001b[0;32m/Library/Frameworks/Python.framework/Versions/3.11/lib/python3.11/site-packages/vamp/load.py:81\u001b[0m, in \u001b[0;36mload_and_configure\u001b[0;34m(data, sample_rate, plugin_key, parameters, **kwargs)\u001b[0m\n\u001b[1;32m     67\u001b[0m \u001b[38;5;28;01mdef\u001b[39;00m \u001b[38;5;21mload_and_configure\u001b[39m(data, sample_rate, plugin_key, parameters, \u001b[38;5;241m*\u001b[39m\u001b[38;5;241m*\u001b[39mkwargs):\n\u001b[1;32m     68\u001b[0m \u001b[38;5;250m    \u001b[39m\u001b[38;5;124;03m\"\"\"Load the plugin with the given plugin key, at a given sample\u001b[39;00m\n\u001b[1;32m     69\u001b[0m \u001b[38;5;124;03m    rate, configure it with the parameter keys and values in the given\u001b[39;00m\n\u001b[1;32m     70\u001b[0m \u001b[38;5;124;03m    parameter dictionary, and initialise it with its preferred step and\u001b[39;00m\n\u001b[0;32m   (...)\u001b[0m\n\u001b[1;32m     78\u001b[0m \u001b[38;5;124;03m    vamp.vampyhost.SHIFT_TIMESTAMP, or vamp.vampyhost.NO_SHIFT).\u001b[39;00m\n\u001b[1;32m     79\u001b[0m \u001b[38;5;124;03m    \"\"\"\u001b[39;00m\n\u001b[0;32m---> 81\u001b[0m     plug \u001b[38;5;241m=\u001b[39m \u001b[43mvampyhost\u001b[49m\u001b[38;5;241;43m.\u001b[39;49m\u001b[43mload_plugin\u001b[49m\u001b[43m(\u001b[49m\u001b[43mplugin_key\u001b[49m\u001b[43m,\u001b[49m\u001b[43m \u001b[49m\u001b[43msample_rate\u001b[49m\u001b[43m,\u001b[49m\n\u001b[1;32m     82\u001b[0m \u001b[43m                                 \u001b[49m\u001b[43mvampyhost\u001b[49m\u001b[38;5;241;43m.\u001b[39;49m\u001b[43mADAPT_INPUT_DOMAIN\u001b[49m\u001b[43m \u001b[49m\u001b[38;5;241;43m+\u001b[39;49m\n\u001b[1;32m     83\u001b[0m \u001b[43m                                 \u001b[49m\u001b[43mvampyhost\u001b[49m\u001b[38;5;241;43m.\u001b[39;49m\u001b[43mADAPT_CHANNEL_COUNT\u001b[49m\u001b[43m)\u001b[49m\n\u001b[1;32m     85\u001b[0m     \u001b[38;5;28;01mif\u001b[39;00m \u001b[38;5;124m\"\u001b[39m\u001b[38;5;124mprocess_timestamp_method\u001b[39m\u001b[38;5;124m\"\u001b[39m \u001b[38;5;129;01min\u001b[39;00m kwargs:\n\u001b[1;32m     86\u001b[0m         plug\u001b[38;5;241m.\u001b[39mset_process_timestamp_method(kwargs\u001b[38;5;241m.\u001b[39mpop(\u001b[38;5;124m\"\u001b[39m\u001b[38;5;124mprocess_timestamp_method\u001b[39m\u001b[38;5;124m\"\u001b[39m))\n",
      "\u001b[0;31mTypeError\u001b[0m: Failed to load plugin: mtg-melodia:melodlia"
     ]
    }
   ],
   "source": [
    "import vamp\n",
    "import librosa\n",
    "\n",
    "# Load an audio file\n",
    "filename = '/Users/adamzinebi/Documents/Beatson/audio2midi/adam_hummed/randoms/bien.mp3'\n",
    "data, sr = librosa.load(filename, sr=None)\n",
    "melody = vamp.collect(data, sr, \"mtg-melodia:melodlia\")\n",
    "\n",
    "# Collect melody using mtg-melodia plugin\n",
    "try:\n",
    "    melody = vamp.collect(data, sr, \"mtg-melodia.dylib:melodia\")\n",
    "    print(\"MTG Melodia plugin loaded successfully!\")\n",
    "except Exception as e:\n",
    "    print(f\"Error: {e}\")"
   ]
  }
 ],
 "metadata": {
  "kernelspec": {
   "display_name": "Python 3",
   "language": "python",
   "name": "python3"
  },
  "language_info": {
   "codemirror_mode": {
    "name": "ipython",
    "version": 3
   },
   "file_extension": ".py",
   "mimetype": "text/x-python",
   "name": "python",
   "nbconvert_exporter": "python",
   "pygments_lexer": "ipython3",
   "version": "3.11.5"
  }
 },
 "nbformat": 4,
 "nbformat_minor": 2
}
